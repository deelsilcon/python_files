{
 "cells": [
  {
   "cell_type": "markdown",
   "id": "7aa35071-b6cb-43b1-8fd6-e4eae2459ccd",
   "metadata": {
    "pycharm": {
     "name": "#%% md\n"
    }
   },
   "source": [
    "# Module 1: Python Fundamentals"
   ]
  },
  {
   "cell_type": "markdown",
   "id": "ddb1efab-3cd2-4943-bcc1-7bf121a145e8",
   "metadata": {
    "pycharm": {
     "name": "#%% md\n"
    }
   },
   "source": [
    "_Goal: Get comfortable with Python's most accessible and fundamental concepts, while learning a bit of what makes it different from other languages you may be familiar with._\n",
    "\n",
    "The [Official Python Tutorial](https://docs.python.org/3/tutorial/index.html)¹ begins by describing Python thusly:\n",
    "\n",
    "> an easy to learn, powerful programming language. It has efficient high-level data structures and a simple but effective approach to object-oriented programming.\n",
    "\n",
    "It's these advantages – and a few others like its extensive ecosystem of libraries – which has made Python so popular, particularly within the data science, machine learning and data analysis fields.\n",
    "\n",
    "We're going to learn the language by example, but it's important not to view the below as a sea of individual examples. There are important concepts to internalize, some similar to other programming languages and some perhaps unique to Python. Look out for these concepts!\n",
    "\n",
    "¹: this tutorial is worth a full read at some point if you choose to deepen your knowledge! We won't reproduce the entire tutorial in these initial lessons, so there will be things you'll learn within it that won't be covered.\n",
    "\n",
    "#### Companion Reading for This Module\n",
    "\n",
    "[Official Tutorial](https://docs.python.org/3/tutorial/index.html): Chapter 3"
   ]
  },
  {
   "cell_type": "markdown",
   "id": "97009736-7d28-4015-81cf-af4ad8210bd6",
   "metadata": {
    "pycharm": {
     "name": "#%% md\n"
    }
   },
   "source": [
    "## 1.1 Python as a Calculator\n",
    "\n",
    "Let's start with something simple – all programming languages will contain one or more types which represent numbers, and will contain ways to manipulate them. Python is no different. Here are some examples."
   ]
  },
  {
   "cell_type": "code",
   "execution_count": 1,
   "id": "49dabf45-dc61-438a-bde9-698ec800c670",
   "metadata": {
    "pycharm": {
     "name": "#%%\n"
    }
   },
   "outputs": [
    {
     "data": {
      "text/plain": "2"
     },
     "execution_count": 1,
     "metadata": {},
     "output_type": "execute_result"
    }
   ],
   "source": [
    "1 + 1  # addition of two `int`s"
   ]
  },
  {
   "cell_type": "markdown",
   "id": "842152d7-4400-41da-b149-2ef98d47d9db",
   "metadata": {
    "tags": [],
    "pycharm": {
     "name": "#%% md\n"
    }
   },
   "source": [
    "#### Interlude \n",
    "\n",
    "Note that I'm using \"comments\" within code, denoted by `#`. <br/>\n",
    "This is to help add context to what I'm doing directly within the code. <br/>\n",
    "The above line is the same as without the comment:"
   ]
  },
  {
   "cell_type": "code",
   "execution_count": null,
   "id": "0000c333-58e4-41aa-bb6e-da97c7491af0",
   "metadata": {
    "pycharm": {
     "name": "#%%\n"
    }
   },
   "outputs": [],
   "source": [
    "1 + 1"
   ]
  },
  {
   "cell_type": "code",
   "execution_count": null,
   "id": "66c74464-6427-471b-a7b5-207c5b25bf26",
   "metadata": {
    "pycharm": {
     "name": "#%%\n"
    }
   },
   "outputs": [],
   "source": [
    "1.5 + 2.5  # addition of two `float`s"
   ]
  },
  {
   "cell_type": "markdown",
   "id": "4e3477e0-e669-4f9c-83ae-33cb25912c22",
   "metadata": {
    "pycharm": {
     "name": "#%% md\n"
    }
   },
   "source": [
    "Can mix integers and floats too:"
   ]
  },
  {
   "cell_type": "code",
   "execution_count": null,
   "id": "ee3781bc-61ba-44b1-84f9-b3a60023bd46",
   "metadata": {
    "pycharm": {
     "name": "#%%\n"
    }
   },
   "outputs": [],
   "source": [
    "4.7 + 8"
   ]
  },
  {
   "cell_type": "code",
   "execution_count": null,
   "id": "4bda0209-ed9d-4d2d-bbb2-3b62930cabf0",
   "metadata": {
    "pycharm": {
     "name": "#%%\n"
    }
   },
   "outputs": [],
   "source": [
    "2 * 3  # multiply"
   ]
  },
  {
   "cell_type": "code",
   "execution_count": null,
   "id": "72058c37-0e39-41d3-b9d5-e9abbc485959",
   "metadata": {
    "pycharm": {
     "name": "#%%\n"
    }
   },
   "outputs": [],
   "source": [
    "5 / 2  # divide"
   ]
  },
  {
   "cell_type": "markdown",
   "id": "53c0c846-e767-4f2c-8a72-981bf4e6a022",
   "metadata": {
    "pycharm": {
     "name": "#%% md\n"
    }
   },
   "source": [
    "Note that division in Python, no matter if ints or floats, always returns a float.\n",
    "\n",
    "But Python also supports floor division, like so:"
   ]
  },
  {
   "cell_type": "code",
   "execution_count": null,
   "id": "29fda01d-f853-4c52-90fb-a85615d033d2",
   "metadata": {
    "tags": [],
    "pycharm": {
     "name": "#%%\n"
    }
   },
   "outputs": [],
   "source": [
    "5 // 2  # floor division - rounds down"
   ]
  },
  {
   "cell_type": "markdown",
   "id": "59f77bb2-6892-4f4a-8ec9-689b33f31bb3",
   "metadata": {
    "pycharm": {
     "name": "#%% md\n"
    }
   },
   "source": [
    "And you can use the modulo operator to find the remainder."
   ]
  },
  {
   "cell_type": "code",
   "execution_count": null,
   "id": "0870278c-596e-4942-8bea-18a1adeca1df",
   "metadata": {
    "pycharm": {
     "name": "#%%\n"
    }
   },
   "outputs": [],
   "source": [
    "5 % 2  # modulo or \"remainder operator\""
   ]
  },
  {
   "cell_type": "code",
   "execution_count": null,
   "id": "ad848b63-3955-432a-bda9-e1c140f6c27c",
   "metadata": {
    "pycharm": {
     "name": "#%%\n"
    }
   },
   "outputs": [],
   "source": [
    "2 ** 4  # powers"
   ]
  },
  {
   "cell_type": "code",
   "execution_count": null,
   "id": "6a7098fa-af70-4c22-bfea-ed6cae487c7f",
   "metadata": {
    "pycharm": {
     "name": "#%%\n"
    }
   },
   "outputs": [],
   "source": [
    "-2 ** 4"
   ]
  },
  {
   "cell_type": "markdown",
   "id": "16f091fc-c162-4e2d-ba70-260ade295727",
   "metadata": {
    "pycharm": {
     "name": "#%% md\n"
    }
   },
   "source": [
    "Similar to other languages and actual calculators, parentheses can be used for grouping and order of operations."
   ]
  },
  {
   "cell_type": "code",
   "execution_count": null,
   "id": "67c2c945-1aad-48bd-9efe-5ebe51e180df",
   "metadata": {
    "tags": [],
    "pycharm": {
     "name": "#%%\n"
    }
   },
   "outputs": [],
   "source": [
    "(-2) ** 4  # \"precedence\" / \"binding strength\""
   ]
  },
  {
   "cell_type": "markdown",
   "id": "d8eeb4ac-e348-44ef-8a2c-802af904e590",
   "metadata": {
    "pycharm": {
     "name": "#%% md\n"
    }
   },
   "source": [
    "Python supports a couple different notations / types of numbers"
   ]
  },
  {
   "cell_type": "code",
   "execution_count": null,
   "id": "f29526fa-8494-4ee1-b359-f5728e5eeae6",
   "metadata": {
    "pycharm": {
     "name": "#%%\n"
    }
   },
   "outputs": [],
   "source": [
    "1_000_000"
   ]
  },
  {
   "cell_type": "code",
   "execution_count": null,
   "id": "3e73a540-37c6-447b-a14b-10205230d790",
   "metadata": {
    "pycharm": {
     "name": "#%%\n"
    }
   },
   "outputs": [],
   "source": [
    "1e3  # E-notation / scientific notation"
   ]
  },
  {
   "cell_type": "code",
   "execution_count": null,
   "id": "f33fd082-c768-4308-89d7-168208c77adc",
   "metadata": {
    "pycharm": {
     "name": "#%%\n"
    }
   },
   "outputs": [],
   "source": [
    "4 + 2j  # Complex numbers"
   ]
  },
  {
   "cell_type": "code",
   "execution_count": null,
   "id": "d284d5e6-74b2-44df-b38c-d08a26b3fb32",
   "metadata": {
    "pycharm": {
     "name": "#%%\n"
    }
   },
   "outputs": [],
   "source": [
    "4 + 2j + 8 + 5j"
   ]
  },
  {
   "cell_type": "markdown",
   "id": "faccba2d-f7c6-45d8-b7ed-77ba665430c3",
   "metadata": {
    "tags": [],
    "pycharm": {
     "name": "#%% md\n"
    }
   },
   "source": [
    "#### Exercise 1\n",
    "\n",
    "Choose any real number. \n",
    "Write code to double that number. \n",
    "Add six to that. \n",
    "Then divide by two. \n",
    "Finally, subtract your original number from the result of dividing by two. \n",
    "You should get 3.0."
   ]
  },
  {
   "cell_type": "code",
   "execution_count": null,
   "id": "3f9194d7-113f-4a09-b45e-aa6b7e5ad911",
   "metadata": {
    "pycharm": {
     "name": "#%%\n"
    }
   },
   "outputs": [],
   "source": [
    "(((5 * 2) + 6) / 2) - 5"
   ]
  },
  {
   "cell_type": "markdown",
   "id": "e95e9842-d25c-440e-8be5-4183a4fe4425",
   "metadata": {
    "pycharm": {
     "name": "#%% md\n"
    }
   },
   "source": [
    "#### Interlude\n",
    "\n",
    "We refer to symbols like `+`, `-`, `**`, `*`, `/`, `%` and others as **operators**. \n",
    "\n",
    "Above, we've seen what some of them do to Python's number types, but they'll pop up again and will do different things depending on the type."
   ]
  },
  {
   "cell_type": "markdown",
   "id": "b3c69d81-813e-4f7c-ae99-e7598194686b",
   "metadata": {
    "pycharm": {
     "name": "#%% md\n"
    }
   },
   "source": [
    "## 1.2 Variables\n",
    "\n",
    "We use the equal sign (`=`) to assign a value to a variable (or \"declare a variable\"). In this case, the `=` is another kind of operator, the **assignment operator**."
   ]
  },
  {
   "cell_type": "code",
   "execution_count": null,
   "id": "885e5eb4-56d2-477a-b20a-868d9a062aac",
   "metadata": {
    "pycharm": {
     "name": "#%%\n"
    }
   },
   "outputs": [],
   "source": [
    "a = 1\n",
    "b = 2\n",
    "c = a + b\n",
    "c"
   ]
  },
  {
   "cell_type": "markdown",
   "id": "b5df0a17-ec61-4890-8ec0-21382b0b71a9",
   "metadata": {
    "pycharm": {
     "name": "#%% md\n"
    }
   },
   "source": [
    "If a variable is not \"defined\" (assigned a value), trying to use it will give you an error:"
   ]
  },
  {
   "cell_type": "code",
   "execution_count": null,
   "id": "3d7c9ba1-86cc-4699-b549-4226b843d198",
   "metadata": {
    "pycharm": {
     "name": "#%%\n"
    }
   },
   "outputs": [],
   "source": [
    "d  # will raise an error"
   ]
  },
  {
   "cell_type": "markdown",
   "id": "213846c7-ba28-4b04-b696-c9e650bf2a39",
   "metadata": {
    "pycharm": {
     "name": "#%% md\n"
    }
   },
   "source": [
    "#### Exercise 2\n",
    "\n",
    "Copy the expression from **Exercise 1** above and replace the \"original number\" with a variable. Run the expression several times with the variable set to different values."
   ]
  },
  {
   "cell_type": "code",
   "execution_count": null,
   "id": "393c16a1-839a-46b1-8107-27f0d93b15a1",
   "metadata": {
    "pycharm": {
     "name": "#%%\n"
    }
   },
   "outputs": [],
   "source": [
    "x = 6\n",
    "(((x * 2) + 6) / 2) - x"
   ]
  },
  {
   "cell_type": "markdown",
   "id": "b02aed3a-6369-4182-a0fb-6a6dc261bec8",
   "metadata": {
    "pycharm": {
     "name": "#%% md\n"
    }
   },
   "source": [
    "## 1.3 Truthiness & Falsiness"
   ]
  },
  {
   "cell_type": "code",
   "execution_count": null,
   "id": "1b2cd842-051a-44ff-a16f-4275e92b086d",
   "metadata": {
    "pycharm": {
     "name": "#%%\n"
    }
   },
   "outputs": [],
   "source": [
    "True # a Boolean"
   ]
  },
  {
   "cell_type": "code",
   "execution_count": null,
   "id": "c675bffb-ed58-4359-b3dc-91facc4cbc75",
   "metadata": {
    "pycharm": {
     "name": "#%%\n"
    }
   },
   "outputs": [],
   "source": [
    "False # another Boolean"
   ]
  },
  {
   "cell_type": "code",
   "execution_count": null,
   "id": "99a9ff61-d3a6-459d-98a5-64f6a034cc57",
   "metadata": {
    "pycharm": {
     "name": "#%%\n"
    }
   },
   "outputs": [],
   "source": [
    "None # nothing!"
   ]
  },
  {
   "cell_type": "code",
   "execution_count": null,
   "id": "6471c7d4-14b9-4aae-8d65-b257b7fca965",
   "metadata": {
    "pycharm": {
     "name": "#%%\n"
    }
   },
   "outputs": [],
   "source": [
    "False and False # logical operators"
   ]
  },
  {
   "cell_type": "code",
   "execution_count": null,
   "id": "4f555d29-7719-46ac-bb18-684e9248d14c",
   "metadata": {
    "pycharm": {
     "name": "#%%\n"
    }
   },
   "outputs": [],
   "source": [
    "False or False"
   ]
  },
  {
   "cell_type": "code",
   "execution_count": null,
   "id": "48cceac6-5a79-4834-a720-b6a66a9afdf4",
   "metadata": {
    "pycharm": {
     "name": "#%%\n"
    }
   },
   "outputs": [],
   "source": [
    "not False"
   ]
  },
  {
   "cell_type": "markdown",
   "id": "07507676-ec86-439d-8eed-be89516b1c3b",
   "metadata": {
    "tags": [],
    "pycharm": {
     "name": "#%% md\n"
    }
   },
   "source": [
    "## 1.4 Comparisons\n",
    "\n",
    "Here we have another type of Python operators: the **relational operators**. It's also often referred to as the **comparison operators**. We use these to compare one Python object to another.\n",
    "\n",
    "Comparisons in Python can help us determine **truthiness** (or **falsiness**)."
   ]
  },
  {
   "cell_type": "code",
   "execution_count": null,
   "id": "3e95404f-316b-47f1-8090-ad3db28efc9d",
   "metadata": {
    "pycharm": {
     "name": "#%%\n"
    }
   },
   "outputs": [],
   "source": [
    "2 == 2"
   ]
  },
  {
   "cell_type": "code",
   "execution_count": null,
   "id": "31d27a5e-d65e-4507-b640-4d7c239bb1f8",
   "metadata": {
    "pycharm": {
     "name": "#%%\n"
    }
   },
   "outputs": [],
   "source": [
    "2 != 2"
   ]
  },
  {
   "cell_type": "code",
   "execution_count": null,
   "id": "14264aaa-7450-4db5-a939-fad94eb38904",
   "metadata": {
    "pycharm": {
     "name": "#%%\n"
    }
   },
   "outputs": [],
   "source": [
    "2 >= 2"
   ]
  },
  {
   "cell_type": "code",
   "execution_count": null,
   "id": "5d40f966-cd81-4bfd-872f-dc3b01eb3224",
   "metadata": {
    "pycharm": {
     "name": "#%%\n"
    }
   },
   "outputs": [],
   "source": [
    "2 < 3 < 4"
   ]
  },
  {
   "cell_type": "markdown",
   "id": "ff75c11e-6d54-43a6-b536-b107bffd6410",
   "metadata": {
    "tags": [],
    "pycharm": {
     "name": "#%% md\n"
    }
   },
   "source": [
    "## 1.5 Strings"
   ]
  },
  {
   "cell_type": "code",
   "execution_count": null,
   "id": "32ee667e-5613-487e-8f6e-13069a13d80b",
   "metadata": {
    "pycharm": {
     "name": "#%%\n"
    }
   },
   "outputs": [],
   "source": [
    "\"Hi!\""
   ]
  },
  {
   "cell_type": "code",
   "execution_count": null,
   "id": "57d288cf-2c87-46ec-ae70-36ae2f1c615b",
   "metadata": {
    "pycharm": {
     "name": "#%%\n"
    }
   },
   "outputs": [],
   "source": [
    "\"Hello in Russian is Привет\""
   ]
  },
  {
   "cell_type": "code",
   "execution_count": null,
   "id": "a9858704",
   "metadata": {
    "pycharm": {
     "name": "#%%\n"
    }
   },
   "outputs": [],
   "source": [
    "'Hello!' # single v double quotes"
   ]
  },
  {
   "cell_type": "code",
   "execution_count": null,
   "id": "45719a6b",
   "metadata": {
    "pycharm": {
     "name": "#%%\n"
    }
   },
   "outputs": [],
   "source": [
    "'Hey what's up'"
   ]
  },
  {
   "cell_type": "code",
   "execution_count": null,
   "id": "24f06810",
   "metadata": {
    "pycharm": {
     "name": "#%%\n"
    }
   },
   "outputs": [],
   "source": [
    "'Hey what\\'s up'"
   ]
  },
  {
   "cell_type": "code",
   "execution_count": null,
   "id": "85529adc-a1dc-491f-9c8c-e04b9231adef",
   "metadata": {
    "pycharm": {
     "name": "#%%\n"
    }
   },
   "outputs": [],
   "source": [
    "\"This string has a newline\\nAnd a tab\\t interjected\""
   ]
  },
  {
   "cell_type": "code",
   "execution_count": null,
   "id": "907ad9fd-c67a-4e84-ab6d-bd81e3f614fb",
   "metadata": {
    "pycharm": {
     "name": "#%%\n"
    }
   },
   "outputs": [],
   "source": [
    "print(\"This string has a newline\\nAnd a tab\\t interjected\")"
   ]
  },
  {
   "cell_type": "markdown",
   "id": "e8656c3e-ac1e-4319-81e7-fc2ff8f041f1",
   "metadata": {
    "pycharm": {
     "name": "#%% md\n"
    }
   },
   "source": [
    "Now say that you actually do want the literal backslash plus n or t. We can preserve those characters by using \"raw strings\". To do that, we prefix a string with `r` (meaning \"raw\")"
   ]
  },
  {
   "cell_type": "code",
   "execution_count": null,
   "id": "d4132ad2-5a86-4ce5-b9dd-f11f6e49e229",
   "metadata": {
    "pycharm": {
     "name": "#%%\n"
    }
   },
   "outputs": [],
   "source": [
    "print(r\"This string has a newline\\nAnd a tab\\t interjected\")"
   ]
  },
  {
   "cell_type": "markdown",
   "id": "02b3e8c6-a590-4739-bd62-5443f2c26ad8",
   "metadata": {
    "pycharm": {
     "name": "#%% md\n"
    }
   },
   "source": [
    "#### Exercise 3\n",
    "\n",
    "Create a string. See if that string is equivalent to a copy of itself using a **relational operator**."
   ]
  },
  {
   "cell_type": "code",
   "execution_count": null,
   "id": "9ab6e060-4749-4e23-afbd-7a1ea49ebabc",
   "metadata": {
    "pycharm": {
     "name": "#%%\n"
    }
   },
   "outputs": [],
   "source": [
    "'Hi!' == 'Hi!'"
   ]
  },
  {
   "cell_type": "code",
   "execution_count": null,
   "id": "b47ee17f-4756-4094-954c-f9ff7bab1cb3",
   "metadata": {
    "pycharm": {
     "name": "#%%\n"
    }
   },
   "outputs": [],
   "source": [
    "\"Hi!\" == 'Hi!'"
   ]
  },
  {
   "cell_type": "markdown",
   "id": "9d70afd0-e400-4c5a-b1eb-5446bef581ff",
   "metadata": {
    "tags": [],
    "pycharm": {
     "name": "#%% md\n"
    }
   },
   "source": [
    "## 1.6 Basic Functions\n",
    "\n",
    "There are a decent number of [built-in functions](https://docs.python.org/3/library/functions.html#help) available in the global namespace without any additional code. Familiarizing yourself with what they do is a good first idea!"
   ]
  },
  {
   "cell_type": "code",
   "execution_count": null,
   "id": "8120eea4-1ba5-413e-a6db-9e7e25b99c02",
   "metadata": {
    "tags": [],
    "pycharm": {
     "name": "#%%\n"
    }
   },
   "outputs": [],
   "source": [
    "help(x)"
   ]
  },
  {
   "cell_type": "code",
   "execution_count": null,
   "id": "31a36657-67ba-48d0-905e-d485219eb818",
   "metadata": {
    "tags": [],
    "pycharm": {
     "name": "#%%\n"
    }
   },
   "outputs": [],
   "source": [
    "help(str)"
   ]
  },
  {
   "cell_type": "code",
   "execution_count": null,
   "id": "75dfdd32-82bc-446a-b02b-cd036e7f03ab",
   "metadata": {
    "tags": [],
    "pycharm": {
     "name": "#%%\n"
    }
   },
   "outputs": [],
   "source": [
    "print(\"Hello, from the simplest way to show text!\")"
   ]
  },
  {
   "cell_type": "code",
   "execution_count": null,
   "id": "1aad4470-0768-4aa0-b771-1426fcd958be",
   "metadata": {
    "pycharm": {
     "name": "#%%\n"
    }
   },
   "outputs": [],
   "source": [
    "print(\"The print function can take\", \"multiple arguments\", \"and create a string with spaces\")"
   ]
  },
  {
   "cell_type": "code",
   "execution_count": null,
   "id": "da5d87da-2e9a-4566-9c36-c638d7957660",
   "metadata": {
    "tags": [],
    "pycharm": {
     "name": "#%%\n"
    }
   },
   "outputs": [],
   "source": [
    "help(print)"
   ]
  },
  {
   "cell_type": "code",
   "execution_count": null,
   "id": "f53f1428-24de-4e4b-9079-6fd12b52a3b8",
   "metadata": {
    "tags": [],
    "pycharm": {
     "name": "#%%\n"
    }
   },
   "outputs": [],
   "source": [
    "result = input(\"And the simplest way to take input: >>> \")"
   ]
  },
  {
   "cell_type": "code",
   "execution_count": null,
   "id": "da840c6c-7e9f-466f-ae1f-3b0ab5726996",
   "metadata": {
    "pycharm": {
     "name": "#%%\n"
    }
   },
   "outputs": [],
   "source": [
    "result"
   ]
  },
  {
   "cell_type": "code",
   "execution_count": null,
   "id": "198645de-13ff-4233-b5ed-c4e2cf1cb054",
   "metadata": {
    "pycharm": {
     "name": "#%%\n"
    }
   },
   "outputs": [],
   "source": [
    "type(result)"
   ]
  },
  {
   "cell_type": "markdown",
   "id": "581a0843",
   "metadata": {
    "pycharm": {
     "name": "#%% md\n"
    }
   },
   "source": [
    "## 1.7 Lists"
   ]
  },
  {
   "cell_type": "markdown",
   "id": "cdd8b9c7",
   "metadata": {
    "pycharm": {
     "name": "#%% md\n"
    }
   },
   "source": [
    "Let's get into \"arrays\", or \"Lists\" in python.\n",
    "in other languages you may have heard \"dynamic array\""
   ]
  },
  {
   "cell_type": "code",
   "execution_count": null,
   "id": "5acb0abd",
   "metadata": {
    "pycharm": {
     "name": "#%%\n"
    }
   },
   "outputs": [],
   "source": [
    "a = [2, 4, 6, 8, 10]"
   ]
  },
  {
   "cell_type": "code",
   "execution_count": null,
   "id": "ad27033a",
   "metadata": {
    "pycharm": {
     "name": "#%%\n"
    }
   },
   "outputs": [],
   "source": [
    "a"
   ]
  },
  {
   "cell_type": "code",
   "execution_count": null,
   "id": "12d6109e",
   "metadata": {
    "pycharm": {
     "name": "#%%\n"
    }
   },
   "outputs": [],
   "source": [
    "len(a)"
   ]
  },
  {
   "cell_type": "code",
   "execution_count": null,
   "id": "3a13c6e0",
   "metadata": {
    "pycharm": {
     "name": "#%%\n"
    }
   },
   "outputs": [],
   "source": [
    "a[2]"
   ]
  },
  {
   "cell_type": "code",
   "execution_count": null,
   "id": "777b49f0",
   "metadata": {
    "pycharm": {
     "name": "#%%\n"
    }
   },
   "outputs": [],
   "source": [
    "a[100]"
   ]
  },
  {
   "cell_type": "code",
   "execution_count": null,
   "id": "ce154a19",
   "metadata": {
    "pycharm": {
     "name": "#%%\n"
    }
   },
   "outputs": [],
   "source": [
    "a[-2]"
   ]
  },
  {
   "cell_type": "markdown",
   "id": "a27bff6a",
   "metadata": {
    "pycharm": {
     "name": "#%% md\n"
    }
   },
   "source": [
    "In addition to indexing, slicing is also supported. While indexing is used to obtain individual characters, slicing allows you to obtain substring:"
   ]
  },
  {
   "cell_type": "code",
   "execution_count": null,
   "id": "bcc1d851",
   "metadata": {
    "pycharm": {
     "name": "#%%\n"
    }
   },
   "outputs": [],
   "source": [
    "b = [0, 1, 2, 3, 4, 5, 6]  # \"slicing\""
   ]
  },
  {
   "cell_type": "code",
   "execution_count": null,
   "id": "447f8e68",
   "metadata": {
    "pycharm": {
     "name": "#%%\n"
    }
   },
   "outputs": [],
   "source": [
    "b[1:]"
   ]
  },
  {
   "cell_type": "code",
   "execution_count": null,
   "id": "238423f8",
   "metadata": {
    "pycharm": {
     "name": "#%%\n"
    }
   },
   "outputs": [],
   "source": [
    "b[:-1]"
   ]
  },
  {
   "cell_type": "code",
   "execution_count": null,
   "id": "59b721d6",
   "metadata": {
    "pycharm": {
     "name": "#%%\n"
    }
   },
   "outputs": [],
   "source": [
    "c = [1, \"foo\", []]"
   ]
  },
  {
   "cell_type": "code",
   "execution_count": null,
   "id": "70cf5faa",
   "metadata": {
    "pycharm": {
     "name": "#%%\n"
    }
   },
   "outputs": [],
   "source": [
    "d = [4, 5, 6] + [1, 2, 3]"
   ]
  },
  {
   "cell_type": "code",
   "execution_count": null,
   "id": "1eac9e5b",
   "metadata": {
    "pycharm": {
     "name": "#%%\n"
    }
   },
   "outputs": [],
   "source": [
    "3 in d"
   ]
  },
  {
   "cell_type": "code",
   "execution_count": null,
   "id": "19c4bac3",
   "metadata": {
    "pycharm": {
     "name": "#%%\n"
    }
   },
   "outputs": [],
   "source": [
    "\"one\" not in d"
   ]
  },
  {
   "cell_type": "code",
   "execution_count": null,
   "id": "5b1b4b89",
   "metadata": {
    "pycharm": {
     "name": "#%%\n"
    }
   },
   "outputs": [],
   "source": [
    "a = [3, 2, 1]\n",
    "a  = sorted(a)"
   ]
  },
  {
   "cell_type": "code",
   "execution_count": null,
   "id": "a5143c85",
   "metadata": {
    "pycharm": {
     "name": "#%%\n"
    }
   },
   "outputs": [],
   "source": [
    "reversed(d)"
   ]
  },
  {
   "cell_type": "code",
   "execution_count": null,
   "id": "846ca296",
   "metadata": {
    "pycharm": {
     "name": "#%%\n"
    }
   },
   "outputs": [],
   "source": [
    "sorted(d, reverse=True)"
   ]
  },
  {
   "cell_type": "markdown",
   "id": "9523f2b5",
   "metadata": {
    "pycharm": {
     "name": "#%% md\n"
    }
   },
   "source": [
    "#### Exercise\n",
    "what's the current value of `d`?"
   ]
  },
  {
   "cell_type": "markdown",
   "id": "5ba66296",
   "metadata": {
    "pycharm": {
     "name": "#%% md\n"
    }
   },
   "source": [
    "## 1.8 Mutability\n",
    "\n",
    "basically, the ability to change state.  the inverse is Immuability "
   ]
  },
  {
   "cell_type": "code",
   "execution_count": null,
   "id": "adeafdb6",
   "metadata": {
    "pycharm": {
     "name": "#%%\n"
    }
   },
   "outputs": [],
   "source": [
    "d[0] = 4"
   ]
  },
  {
   "cell_type": "code",
   "execution_count": null,
   "id": "73308129",
   "metadata": {
    "pycharm": {
     "name": "#%%\n"
    }
   },
   "outputs": [],
   "source": [
    "d"
   ]
  },
  {
   "cell_type": "code",
   "execution_count": null,
   "id": "818af9cd",
   "metadata": {
    "pycharm": {
     "name": "#%%\n"
    }
   },
   "outputs": [],
   "source": [
    "d[2] = [1, 2, 3]"
   ]
  },
  {
   "cell_type": "code",
   "execution_count": null,
   "id": "ed825913",
   "metadata": {
    "pycharm": {
     "name": "#%%\n"
    }
   },
   "outputs": [],
   "source": [
    "d"
   ]
  },
  {
   "cell_type": "code",
   "execution_count": null,
   "id": "f40e6458",
   "metadata": {
    "pycharm": {
     "name": "#%%\n"
    }
   },
   "outputs": [],
   "source": [
    "e = [2, 4, 6, 8, 10]"
   ]
  },
  {
   "cell_type": "code",
   "execution_count": null,
   "id": "7e69e1f7",
   "metadata": {
    "pycharm": {
     "name": "#%%\n"
    }
   },
   "outputs": [],
   "source": [
    "e"
   ]
  },
  {
   "cell_type": "code",
   "execution_count": null,
   "id": "4e0dac9d",
   "metadata": {
    "pycharm": {
     "name": "#%%\n"
    }
   },
   "outputs": [],
   "source": [
    "e[-1]"
   ]
  },
  {
   "cell_type": "code",
   "execution_count": null,
   "id": "43cb67ac",
   "metadata": {
    "pycharm": {
     "name": "#%%\n"
    }
   },
   "outputs": [],
   "source": [
    "e.append(127)  # our first \"method\""
   ]
  },
  {
   "cell_type": "code",
   "execution_count": null,
   "id": "ecf98e87",
   "metadata": {
    "pycharm": {
     "name": "#%%\n"
    }
   },
   "outputs": [],
   "source": [
    "result = d.append(12)"
   ]
  },
  {
   "cell_type": "code",
   "execution_count": null,
   "id": "1d64d0ed",
   "metadata": {
    "pycharm": {
     "name": "#%%\n"
    }
   },
   "outputs": [],
   "source": [
    "print(result)  # operates on the object - changes its state, doesn't ret"
   ]
  },
  {
   "cell_type": "code",
   "execution_count": null,
   "id": "600fe7d5",
   "metadata": {
    "pycharm": {
     "name": "#%%\n"
    }
   },
   "outputs": [],
   "source": [
    "e.extend([10, 8, 9])"
   ]
  },
  {
   "cell_type": "code",
   "execution_count": null,
   "id": "f0592f90",
   "metadata": {
    "pycharm": {
     "name": "#%%\n"
    }
   },
   "outputs": [],
   "source": [
    "e"
   ]
  },
  {
   "cell_type": "code",
   "execution_count": null,
   "id": "97e22331",
   "metadata": {
    "pycharm": {
     "name": "#%%\n"
    }
   },
   "outputs": [],
   "source": [
    "e.insert(0, -1)"
   ]
  },
  {
   "cell_type": "code",
   "execution_count": null,
   "id": "7a30d212",
   "metadata": {
    "pycharm": {
     "name": "#%%\n"
    }
   },
   "outputs": [],
   "source": [
    "e"
   ]
  },
  {
   "cell_type": "code",
   "execution_count": null,
   "id": "8d7ecded",
   "metadata": {
    "pycharm": {
     "name": "#%%\n"
    }
   },
   "outputs": [],
   "source": [
    "result = e.sort()"
   ]
  },
  {
   "cell_type": "code",
   "execution_count": null,
   "id": "59ca91e5",
   "metadata": {
    "pycharm": {
     "name": "#%%\n"
    }
   },
   "outputs": [],
   "source": [
    "result"
   ]
  },
  {
   "cell_type": "code",
   "execution_count": null,
   "id": "5645b3fc",
   "metadata": {
    "pycharm": {
     "name": "#%%\n"
    }
   },
   "outputs": [],
   "source": [
    "result = sorted(e)"
   ]
  },
  {
   "cell_type": "code",
   "execution_count": null,
   "id": "39c728b9",
   "metadata": {
    "pycharm": {
     "name": "#%%\n"
    }
   },
   "outputs": [],
   "source": [
    "result"
   ]
  },
  {
   "cell_type": "markdown",
   "id": "a0b877ab",
   "metadata": {
    "pycharm": {
     "name": "#%% md\n"
    }
   },
   "source": [
    "#### Exercise\n",
    "\n",
    "We've just learned about lists, which are a kind of sequence. But there are other sequences. Luckily, once you've learned how to use list as a sequence, you've learned how to use others as well! Can you think of another sequence we've already briefly discussed?\n"
   ]
  },
  {
   "cell_type": "code",
   "execution_count": null,
   "id": "272fe22a",
   "metadata": {
    "pycharm": {
     "name": "#%%\n"
    }
   },
   "outputs": [],
   "source": [
    "word = \"Python\"\n",
    "word[0]"
   ]
  },
  {
   "cell_type": "code",
   "execution_count": null,
   "id": "7f44860e",
   "metadata": {
    "pycharm": {
     "name": "#%%\n"
    }
   },
   "outputs": [],
   "source": [
    "word[-1]  # last character"
   ]
  },
  {
   "cell_type": "code",
   "execution_count": null,
   "id": "70a571fd",
   "metadata": {
    "pycharm": {
     "name": "#%%\n"
    }
   },
   "outputs": [],
   "source": [
    "word[-6] # wraps around"
   ]
  },
  {
   "cell_type": "code",
   "execution_count": null,
   "id": "68a441d5",
   "metadata": {
    "pycharm": {
     "name": "#%%\n"
    }
   },
   "outputs": [],
   "source": [
    "word[0:4]"
   ]
  },
  {
   "cell_type": "code",
   "execution_count": null,
   "id": "060fc27d",
   "metadata": {
    "pycharm": {
     "name": "#%%\n"
    }
   },
   "outputs": [],
   "source": [
    "word[0] = \"J\""
   ]
  },
  {
   "cell_type": "code",
   "execution_count": null,
   "id": "9dacf1b1",
   "metadata": {
    "pycharm": {
     "name": "#%%\n"
    }
   },
   "outputs": [],
   "source": [
    "\"Hi\" + \" \" + \"I'm Lynn!\"  # \"add\" strings together"
   ]
  },
  {
   "cell_type": "code",
   "execution_count": null,
   "id": "f28be2ee",
   "metadata": {
    "pycharm": {
     "name": "#%%\n"
    }
   },
   "outputs": [],
   "source": [
    "\" \".join([\"Hi\", \"I'm Lynn!\"])"
   ]
  },
  {
   "cell_type": "markdown",
   "id": "68ae5078",
   "metadata": {
    "pycharm": {
     "name": "#%% md\n"
    }
   },
   "source": [
    "---"
   ]
  },
  {
   "cell_type": "markdown",
   "id": "3dd34265-9efb-4441-bebf-cd2a5fb26cb9",
   "metadata": {
    "pycharm": {
     "name": "#%% md\n"
    }
   },
   "source": [
    "## 1.9 Summary\n",
    "\n",
    "As a quick summary, we've now covered:\n",
    "\n",
    "* Some built–in types: `int`s, `float`s, `str`s and `bool`s, along with basic operations on each\n",
    "* Some basic I/O: `print()` and `input()`\n",
    "* Calling some built-in functions: `help()` and `type()`\n",
    "* \"Truthiness\", \"falsiness\", and comparing Python objects with relational operators like `==` and `=!`\n",
    "* Sequences like `list`s and `str`s; operations on sequences; and a bit of mutability/immutability"
   ]
  },
  {
   "cell_type": "markdown",
   "id": "c60c04e2-e071-4e81-9096-09637abba399",
   "metadata": {
    "tags": [],
    "pycharm": {
     "name": "#%% md\n"
    }
   },
   "source": [
    "## 1.10 Parting Words\n",
    "\n",
    "We won't explicitly point this out, but each time you learn about a new object (or type of objects), you should think:\n",
    "\n",
    "* what does this object represent?\n",
    "* what operations or syntax does it support (\"API\" -- for Application Programming Interface))"
   ]
  },
  {
   "cell_type": "markdown",
   "id": "15e333ea-1917-4024-9947-6e501c0bec18",
   "metadata": {
    "pycharm": {
     "name": "#%% md\n"
    }
   },
   "source": [
    "## 1.11 Additional Resources\n",
    "\n",
    "Optional reading if you'd like to learn more or spend more time familiarizing yourself with what we just went over.\n",
    "\n",
    "* [Official Python Tutorial](https://docs.python.org/3/tutorial/index.html) \n",
    "  * We covered a lot in Chapter 3.1.1 and 3.1.2\n",
    "  * Suggestion: walk through the first two sections (3.1.1 and 3.1.2) for extra practice of what we went over today\n",
    "  * Suggestion: walk through the rest of the chapter for a preview of the next lecture\n",
    "* [Python Operators](https://www.programiz.com/python-programming/operators) which includes additional operators that we have not covered\n",
    "* [Truthy and Falsy in Python: A Detailed Introduction](https://www.freecodecamp.org/news/truthy-and-falsy-values-in-python/)"
   ]
  },
  {
   "cell_type": "code",
   "execution_count": null,
   "id": "766e2681",
   "metadata": {
    "pycharm": {
     "name": "#%%\n"
    }
   },
   "outputs": [],
   "source": []
  }
 ],
 "metadata": {
  "kernelspec": {
   "display_name": "Python 3",
   "language": "python",
   "name": "python3"
  },
  "language_info": {
   "codemirror_mode": {
    "name": "ipython",
    "version": 3
   },
   "file_extension": ".py",
   "mimetype": "text/x-python",
   "name": "python",
   "nbconvert_exporter": "python",
   "pygments_lexer": "ipython3",
   "version": "3.8.8"
  }
 },
 "nbformat": 4,
 "nbformat_minor": 5
}